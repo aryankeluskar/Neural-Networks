{
 "cells": [
  {
   "cell_type": "markdown",
   "metadata": {},
   "source": [
    "\n",
    "# Supervised Regression Model\n",
    "\n",
    "Predicting marks based on hours slept and studied\n",
    "\n",
    "<img src=\"srm.png\" alt=\"image\" width=\"500\">\n",
    "\n",
    "\n",
    "|Hours slept, Hours studied | Marks obtained|\n",
    "|-|-|\n",
    "|8, 8| 95|\n",
    "|9, 9| 98|\n",
    "|7, 6| 86|\n",
    "|7, 8| 92|\n",
    "|6, 7| 82|\n",
    "|4, 10| 89|\n",
    "\n",
    "\n",
    "\n",
    "## Scale our data to match\n",
    "\n",
    "\n",
    "## Deep Learning Network\n",
    "<img src=\"dln.png\" alt=\"image\" width=\"500\">\n",
    "\n",
    "\n"
   ]
  }
 ],
 "metadata": {
  "kernelspec": {
   "display_name": "Python 3",
   "language": "python",
   "name": "python3"
  },
  "language_info": {
   "name": "python",
   "version": "3.12.3"
  }
 },
 "nbformat": 4,
 "nbformat_minor": 2
}
